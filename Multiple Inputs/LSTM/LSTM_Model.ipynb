{
 "cells": [
  {
   "cell_type": "code",
   "execution_count": 1,
   "metadata": {},
   "outputs": [],
   "source": [
    "import numpy as np\n",
    "import tensorflow as tf\n",
    "from tensorflow import keras\n",
    "from tensorflow.keras import layers\n",
    "import pandas as pd\n",
    "from tensorflow.keras.preprocessing.text import Tokenizer\n",
    "from tensorflow.keras.preprocessing.sequence import pad_sequences\n",
    "from tensorflow.keras.layers import Dense, Embedding, LSTM, Dropout, Input, Concatenate, Bidirectional\n",
    "from tensorflow.keras.models import Model\n",
    "from tensorflow.keras import regularizers\n",
    "from sklearn import model_selection\n",
    "import re"
   ]
  },
  {
   "cell_type": "code",
   "execution_count": 2,
   "metadata": {},
   "outputs": [],
   "source": [
    "train_data = pd.read_json('train_meta_data.json')\n",
    "test_data = pd.read_json('test_meta_data.json')\n",
    "\n",
    "X_train = train_data.drop(columns=['Title', 'Budget', 'Status', 'Released', 'Language', 'Director', 'Actors'])\n",
    "y_train = train_data['Status']\n",
    "X_test = test_data.drop(columns=['Title', 'Budget', 'Status', 'Released', 'Language', 'Director', 'Actors'])\n",
    "y_test = test_data['Status']\n",
    "\n",
    "def preprocess_text(sen):\n",
    "    sentence = re.sub(r'[^\\w]', ' ', sen)\n",
    "    # Removing multiple spaces\n",
    "    sentence = re.sub(r'\\s+', ' ', sentence)\n",
    "    return sentence"
   ]
  },
  {
   "cell_type": "code",
   "execution_count": 3,
   "metadata": {},
   "outputs": [],
   "source": [
    "# token.fit_on_texts(X_train['Released'])\n",
    "# max_length_released = max([len(s) for s in X_train['Released']])\n",
    "\n",
    "# train_released_sequences = token.texts_to_sequences(X_train['Released'])\n",
    "# train_released_padded = pad_sequences(train_released_sequences, maxlen=max_length_released)\n",
    "# released_vocab_size = len(token.word_index)+1\n",
    "\n",
    "# test_released_sequences = token.texts_to_sequences(X_test['Released'])\n",
    "# test_released_padded = pad_sequences(test_released_sequences, maxlen=max_length_released)\n",
    "\n",
    "# input_released = Input(shape=(max_length_released,))\n",
    "# embedding_layer = Embedding(released_vocab_size, max_length_released)(input_released)\n",
    "# LSTM_Layer_1 =LSTM(25, dropout=0.5)(embedding_layer)"
   ]
  },
  {
   "cell_type": "code",
   "execution_count": 172,
   "metadata": {},
   "outputs": [],
   "source": [
    "# X_train_director = []\n",
    "# data = list(X_train[\"Director\"])\n",
    "\n",
    "# for sen in data:\n",
    "#     X_train_director.append(preprocess_text(sen))\n",
    "\n",
    "# X_test_director = []\n",
    "# data = list(X_test[\"Director\"])\n",
    "\n",
    "# for sen in data:\n",
    "#     X_test_director.append(preprocess_text(sen))\n",
    "\n",
    "# token.fit_on_texts(X_train_director)\n",
    "# max_length_director = max([len(s) for s in X_train_director])\n",
    "\n",
    "# train_director_sequences = token.texts_to_sequences(X_train_director)\n",
    "# train_director_padded = pad_sequences(train_director_sequences, maxlen=max_length_director)\n",
    "# director_vocab_size = len(token.word_index)+1\n",
    "\n",
    "# test_director_sequences = token.texts_to_sequences(X_test_director)\n",
    "# test_director_padded = pad_sequences(test_director_sequences, maxlen=max_length_director)\n",
    "\n",
    "# input_director = Input(shape=(max_length_director,))\n",
    "# embedding_layer = Embedding(director_vocab_size, max_length_director)(input_director)\n",
    "# LSTM_Layer_2 =LSTM(32, dropout=0.5)(embedding_layer)\n",
    "# dence_Layer_1 = Dense(8, activation='relu',kernel_regularizer=regularizers.l2(1e-6))(LSTM_Layer_2)"
   ]
  },
  {
   "cell_type": "code",
   "execution_count": 173,
   "metadata": {},
   "outputs": [],
   "source": [
    "# X_train_actors = []\n",
    "# data = list(X_train[\"Actors\"])\n",
    "\n",
    "# for sen in data:\n",
    "#     X_train_actors.append(preprocess_text(sen))\n",
    "\n",
    "# X_test_actors = []\n",
    "# data = list(X_test[\"Actors\"])\n",
    "\n",
    "# for sen in data:\n",
    "#     X_test_actors.append(preprocess_text(sen))\n",
    "\n",
    "# token.fit_on_texts(X_train_actors)\n",
    "# max_length_actors = max([len(s) for s in X_train_actors])\n",
    "\n",
    "# train_actors_sequences = token.texts_to_sequences(X_train_actors)\n",
    "# train_actors_padded = pad_sequences(train_actors_sequences, maxlen=max_length_actors)\n",
    "# actors_vocab_size = len(token.word_index)+1\n",
    "\n",
    "# test_actors_sequences = token.texts_to_sequences(X_test_actors)\n",
    "# test_actors_padded = pad_sequences(test_actors_sequences, maxlen=max_length_actors)\n",
    "\n",
    "# input_actors = Input(shape=(max_length_actors,))\n",
    "# embedding_layer = Embedding(actors_vocab_size, max_length_actors)(input_actors)\n",
    "# LSTM_Layer_3 =LSTM(32, dropout=0.5)(embedding_layer)\n",
    "# dence_Layer_2 = Dense(8, activation='relu',kernel_regularizer=regularizers.l2(1e-6))(LSTM_Layer_3)"
   ]
  },
  {
   "cell_type": "code",
   "execution_count": 3,
   "metadata": {},
   "outputs": [],
   "source": [
    "token = Tokenizer()\n",
    "token.fit_on_texts(X_train['Awards'])\n",
    "max_length_awards = max([len(s) for s in X_train['Awards']])\n",
    "\n",
    "train_awards_sequences = token.texts_to_sequences(X_train['Awards'])\n",
    "train_awards_padded = pad_sequences(train_awards_sequences, maxlen=max_length_awards)\n",
    "awards_vocab_size = len(token.word_index)+1\n",
    "\n",
    "test_awards_sequences = token.texts_to_sequences(X_test['Awards'])\n",
    "test_awards_padded = pad_sequences(test_awards_sequences, maxlen=max_length_awards)\n",
    "\n",
    "input_awards = Input(shape=(max_length_awards,))\n",
    "embedding_layer = Embedding(awards_vocab_size, max_length_awards)(input_awards)\n",
    "LSTM_Layer_1 = Bidirectional(LSTM(64, dropout=0.2))(embedding_layer)\n",
    "dence_Layer_1 = Dense(128, activation='relu',kernel_regularizer=regularizers.l2(0.01))(LSTM_Layer_1)"
   ]
  },
  {
   "cell_type": "code",
   "execution_count": 4,
   "metadata": {},
   "outputs": [
    {
     "name": "stdout",
     "output_type": "stream",
     "text": [
      "57\n"
     ]
    }
   ],
   "source": [
    "X_train_genre = []\n",
    "data = list(X_train[\"Genre\"])\n",
    "\n",
    "for sen in data:\n",
    "    X_train_genre.append(preprocess_text(sen))\n",
    "\n",
    "X_test_genre = []\n",
    "data = list(X_test[\"Genre\"])\n",
    "\n",
    "for sen in data:\n",
    "    X_test_genre.append(preprocess_text(sen))\n",
    "\n",
    "token.fit_on_texts(X_train_genre)\n",
    "max_length_genre = max([len(s) for s in X_train_genre])\n",
    "print(max_length_genre)\n",
    "\n",
    "train_genre_sequences = token.texts_to_sequences(X_train_genre)\n",
    "train_genre_padded = pad_sequences(train_genre_sequences, maxlen=max_length_genre)\n",
    "genre_vocab_size = len(token.word_index)+1\n",
    "\n",
    "test_genre_sequences = token.texts_to_sequences(X_test_genre)\n",
    "test_genre_padded = pad_sequences(test_genre_sequences, maxlen=max_length_genre)\n",
    "\n",
    "input_genre = Input(shape=(max_length_genre,))\n",
    "embedding_layer = Embedding(genre_vocab_size, max_length_genre)(input_genre)\n",
    "LSTM_Layer_2 = Bidirectional(LSTM(64, dropout=0.2))(embedding_layer)\n",
    "dence_Layer_2 = Dense(128, activation='relu',kernel_regularizer=regularizers.l2(1e-6))(LSTM_Layer_2)"
   ]
  },
  {
   "cell_type": "code",
   "execution_count": 176,
   "metadata": {},
   "outputs": [],
   "source": [
    "# X_train_language = []\n",
    "# data = list(X_train[\"Language\"])\n",
    "\n",
    "# for sen in data:\n",
    "#     X_train_language.append(preprocess_text(sen))\n",
    "# # print(X_train_language)\n",
    "\n",
    "# X_test_language = []\n",
    "# data = list(X_test[\"Language\"])\n",
    "\n",
    "# for sen in data:\n",
    "#     X_test_language.append(preprocess_text(sen))\n",
    "# # print(X_test_director)\n",
    "\n",
    "# token.fit_on_texts(X_train_language)\n",
    "# max_length_language = max([len(s) for s in X_train_language])\n",
    "# # print(max_length)\n",
    "\n",
    "# train_language_sequences = token.texts_to_sequences(X_train_language)\n",
    "# train_language_padded = pad_sequences(train_language_sequences, maxlen=max_length_language)\n",
    "# language_vocab_size = len(token.word_index)+1\n",
    "\n",
    "# test_language_sequences = token.texts_to_sequences(X_test_language)\n",
    "# test_language_padded = pad_sequences(test_language_sequences, maxlen=max_length_language)\n",
    "\n",
    "# input_language = Input(shape=(max_length_language,))\n",
    "# embedding_layer = Embedding(language_vocab_size, max_length_language)(input_language)\n",
    "# LSTM_Layer_6 =LSTM(10, dropout=0.5)(embedding_layer)\n",
    "# input_language.dtype"
   ]
  },
  {
   "cell_type": "code",
   "execution_count": 44,
   "metadata": {},
   "outputs": [],
   "source": [
    "X_train_rating = X_train['imdbRating']\n",
    "# X_train_rating=X_train_rating.astype(str)\n",
    "# token.fit_on_texts(X_train_rating)\n",
    "# max_length_rating = max([len(s) for s in X_train_rating])\n",
    "# print(max_length_rating)\n",
    "# train_rating_sequences = token.texts_to_sequences(X_train_rating)\n",
    "# train_rating_padded = pad_sequences(train_rating_sequences, maxlen=max_length_rating)\n",
    "\n",
    "# rating_vocab_size = len(token.word_index)+1\n",
    "\n",
    "X_test_rating = X_test['imdbRating']\n",
    "# X_test_rating=X_test_rating.astype(str)\n",
    "# test_rating_sequences = token.texts_to_sequences(X_test_rating)\n",
    "# test_rating_padded = pad_sequences(test_rating_sequences, maxlen=max_length_rating)\n",
    "\n",
    "input_rating = Input(shape=1)\n",
    "dense_layer_3 = Dense(3, activation='relu', kernel_regularizer=regularizers.l2(1e-6))(input_rating)\n",
    "dense_layer_4 = Dense(200, activation='relu', kernel_regularizer=regularizers.l2(1e-6))(dense_layer_3)\n",
    "dense_layer_5 = Dense(128, activation='relu', kernel_regularizer=regularizers.l2(1e-6))(dense_layer_4)"
   ]
  },
  {
   "cell_type": "code",
   "execution_count": 5,
   "metadata": {},
   "outputs": [
    {
     "name": "stdout",
     "output_type": "stream",
     "text": [
      "Model: \"model\"\n",
      "__________________________________________________________________________________________________\n",
      "Layer (type)                    Output Shape         Param #     Connected to                     \n",
      "==================================================================================================\n",
      "input_1 (InputLayer)            [(None, 68)]         0                                            \n",
      "__________________________________________________________________________________________________\n",
      "input_2 (InputLayer)            [(None, 57)]         0                                            \n",
      "__________________________________________________________________________________________________\n",
      "embedding (Embedding)           (None, 68, 68)       9520        input_1[0][0]                    \n",
      "__________________________________________________________________________________________________\n",
      "embedding_1 (Embedding)         (None, 57, 57)       9234        input_2[0][0]                    \n",
      "__________________________________________________________________________________________________\n",
      "bidirectional (Bidirectional)   (None, 128)          68096       embedding[0][0]                  \n",
      "__________________________________________________________________________________________________\n",
      "bidirectional_1 (Bidirectional) (None, 128)          62464       embedding_1[0][0]                \n",
      "__________________________________________________________________________________________________\n",
      "dense (Dense)                   (None, 128)          16512       bidirectional[0][0]              \n",
      "__________________________________________________________________________________________________\n",
      "dense_1 (Dense)                 (None, 128)          16512       bidirectional_1[0][0]            \n",
      "__________________________________________________________________________________________________\n",
      "concatenate (Concatenate)       (None, 256)          0           dense[0][0]                      \n",
      "                                                                 dense_1[0][0]                    \n",
      "__________________________________________________________________________________________________\n",
      "dense_2 (Dense)                 (None, 128)          32896       concatenate[0][0]                \n",
      "__________________________________________________________________________________________________\n",
      "dense_3 (Dense)                 (None, 32)           4128        dense_2[0][0]                    \n",
      "__________________________________________________________________________________________________\n",
      "dense_4 (Dense)                 (None, 1)            33          dense_3[0][0]                    \n",
      "==================================================================================================\n",
      "Total params: 219,395\n",
      "Trainable params: 219,395\n",
      "Non-trainable params: 0\n",
      "__________________________________________________________________________________________________\n"
     ]
    }
   ],
   "source": [
    "from tensorflow.python.keras.callbacks import EarlyStopping\n",
    "\n",
    "# callback = EarlyStopping(monitor='val_loss')\n",
    "concat_layer = Concatenate()([dence_Layer_1, dence_Layer_2])\n",
    "dense_layer_6 = Dense(128, activation='relu',kernel_regularizer=regularizers.l2(1e-6))(concat_layer)\n",
    "dense_layer_7 = Dense(32, activation='relu',kernel_regularizer=regularizers.l2(1e-6))(dense_layer_6)\n",
    "output = Dense(1, activation='sigmoid')(dense_layer_7)\n",
    "model = Model(inputs=[input_awards, input_genre], outputs=output)\n",
    "model.summary()\n",
    "# dot_img_file = 'model_1.png'\n",
    "# tf.keras.utils.plot_model(model, to_file=dot_img_file, show_shapes=True)"
   ]
  },
  {
   "cell_type": "code",
   "execution_count": 6,
   "metadata": {},
   "outputs": [],
   "source": [
    "model.compile(optimizer='adam',loss='binary_crossentropy',metrics = ['accuracy'])"
   ]
  },
  {
   "cell_type": "code",
   "execution_count": 7,
   "metadata": {},
   "outputs": [
    {
     "name": "stdout",
     "output_type": "stream",
     "text": [
      "Epoch 1/10\n",
      "22/22 [==============================] - 3s 146ms/step - loss: 1.6700 - accuracy: 0.7077 - val_loss: 1.4531 - val_accuracy: 0.6667\n",
      "Epoch 2/10\n",
      "22/22 [==============================] - 2s 74ms/step - loss: 1.2481 - accuracy: 0.7355 - val_loss: 1.1604 - val_accuracy: 0.6667\n",
      "Epoch 3/10\n",
      "22/22 [==============================] - 2s 74ms/step - loss: 0.9770 - accuracy: 0.7355 - val_loss: 0.9345 - val_accuracy: 0.6667\n",
      "Epoch 4/10\n",
      "22/22 [==============================] - 2s 75ms/step - loss: 0.7963 - accuracy: 0.7355 - val_loss: 0.7903 - val_accuracy: 0.6667\n",
      "Epoch 5/10\n",
      "22/22 [==============================] - 2s 75ms/step - loss: 0.6624 - accuracy: 0.7355 - val_loss: 0.7006 - val_accuracy: 0.6667\n",
      "Epoch 6/10\n",
      "22/22 [==============================] - 2s 73ms/step - loss: 0.5436 - accuracy: 0.7587 - val_loss: 0.6735 - val_accuracy: 0.7200\n",
      "Epoch 7/10\n",
      "22/22 [==============================] - 2s 74ms/step - loss: 0.4659 - accuracy: 0.8237 - val_loss: 0.7208 - val_accuracy: 0.7200\n",
      "Epoch 8/10\n",
      "22/22 [==============================] - 2s 85ms/step - loss: 0.3997 - accuracy: 0.8515 - val_loss: 0.7932 - val_accuracy: 0.7067\n",
      "Epoch 9/10\n",
      "22/22 [==============================] - 2s 72ms/step - loss: 0.3784 - accuracy: 0.8585 - val_loss: 0.8193 - val_accuracy: 0.6800\n",
      "Epoch 10/10\n",
      "22/22 [==============================] - 2s 74ms/step - loss: 0.3564 - accuracy: 0.8585 - val_loss: 0.9023 - val_accuracy: 0.7200\n"
     ]
    }
   ],
   "source": [
    "history = model.fit([train_awards_padded, \n",
    "                     train_genre_padded], y_train, epochs=10, batch_size=20,\n",
    "                     validation_data= ([test_awards_padded, \n",
    "                     test_genre_padded], y_test))"
   ]
  },
  {
   "cell_type": "code",
   "execution_count": 8,
   "metadata": {},
   "outputs": [
    {
     "name": "stdout",
     "output_type": "stream",
     "text": [
      "3/3 [==============================] - 0s 10ms/step - loss: 0.9023 - accuracy: 0.7200\n",
      "Test Score: 0.9023096561431885\n",
      "Test Accuracy: 72.00000286102295\n"
     ]
    }
   ],
   "source": [
    "score = model.evaluate(x=[test_awards_padded, \n",
    "                     test_genre_padded], y=y_test, verbose=1)\n",
    "print(\"Test Score:\", score[0])\n",
    "print(\"Test Accuracy:\", score[1]*100)\n",
    "# print(\"Score:\", score[2])"
   ]
  },
  {
   "cell_type": "code",
   "execution_count": 11,
   "metadata": {},
   "outputs": [
    {
     "name": "stdout",
     "output_type": "stream",
     "text": [
      "Accuracy 0.72\n",
      "Precission 0.6111111\n",
      "Recall 0.44\n",
      "F1 score: 0.533333\n"
     ]
    }
   ],
   "source": [
    "from sklearn.metrics import f1_score\n",
    "\n",
    "x=[test_awards_padded, test_genre_padded]\n",
    "y_pred = model.predict(x)\n",
    "\n",
    "m = tf.keras.metrics.BinaryAccuracy()\n",
    "m.update_state(y_test, y_pred, sample_weight=None)\n",
    "print('Accuracy %s' % m.result().numpy())\n",
    "\n",
    "m = tf.keras.metrics.Precision()\n",
    "m.update_state(y_test, y_pred, sample_weight=None)\n",
    "print('Precission %s' % m.result().numpy())\n",
    "\n",
    "m = tf.keras.metrics.Recall()\n",
    "m.update_state(y_test, y_pred, sample_weight=None)\n",
    "print('Recall %s' % m.result().numpy())\n",
    "\n",
    "yhat_probs = model.predict(x, verbose=0)\n",
    "# predict crisp classes for test set\n",
    "yhat_classes = np.argmax(yhat_probs,axis=1)\n",
    "\n",
    "f1 = f1_score(y_test, yhat_classes, average = 'weighted')\n",
    "print('F1 score: %f' % f1)"
   ]
  },
  {
   "cell_type": "code",
   "execution_count": 21,
   "metadata": {},
   "outputs": [
    {
     "data": {
      "image/png": "[encoded data removed]",
      "text/plain": [
       "<Figure size 432x288 with 1 Axes>"
      ]
     },
     "metadata": {
      "needs_background": "light"
     },
     "output_type": "display_data"
    },
    {
     "data": {
      "image/png": "[encoded data removed]",
      "text/plain": [
       "<Figure size 432x288 with 1 Axes>"
      ]
     },
     "metadata": {
      "needs_background": "light"
     },
     "output_type": "display_data"
    }
   ],
   "source": [
    "import matplotlib.pyplot as plt\n",
    "\n",
    "plt.plot(history.history['accuracy'])\n",
    "plt.plot(history.history['val_accuracy'])\n",
    "\n",
    "plt.title('model accuracy')\n",
    "plt.ylabel('accuracy')\n",
    "plt.xlabel('epoch')\n",
    "plt.legend(['train','test'], loc='upper left')\n",
    "plt.show()\n",
    "\n",
    "plt.plot(history.history['loss'])\n",
    "plt.plot(history.history['val_loss'])\n",
    "\n",
    "plt.title('model loss')\n",
    "plt.ylabel('loss')\n",
    "plt.xlabel('epoch')\n",
    "plt.legend(['train','test'], loc='upper left')\n",
    "plt.show()"
   ]
  },
  {
   "cell_type": "code",
   "execution_count": 10,
   "metadata": {},
   "outputs": [
    {
     "ename": "NameError",
     "evalue": "name 'test_rating_padded' is not defined",
     "output_type": "error",
     "traceback": [
      "\u001b[1;31m---------------------------------------------------------------------------\u001b[0m",
      "\u001b[1;31mNameError\u001b[0m                                 Traceback (most recent call last)",
      "\u001b[1;32m<ipython-input-10-9c4156d79670>\u001b[0m in \u001b[0;36m<module>\u001b[1;34m\u001b[0m\n\u001b[0;32m      8\u001b[0m \u001b[1;32mfrom\u001b[0m \u001b[0msklearn\u001b[0m\u001b[1;33m.\u001b[0m\u001b[0mmetrics\u001b[0m \u001b[1;32mimport\u001b[0m \u001b[0mconfusion_matrix\u001b[0m\u001b[1;33m\u001b[0m\u001b[1;33m\u001b[0m\u001b[0m\n\u001b[0;32m      9\u001b[0m \u001b[1;33m\u001b[0m\u001b[0m\n\u001b[1;32m---> 10\u001b[1;33m \u001b[0mx\u001b[0m\u001b[1;33m=\u001b[0m\u001b[1;33m[\u001b[0m\u001b[0mtest_awards_padded\u001b[0m\u001b[1;33m,\u001b[0m \u001b[0mtest_genre_padded\u001b[0m\u001b[1;33m,\u001b[0m \u001b[0mtest_rating_padded\u001b[0m\u001b[1;33m]\u001b[0m\u001b[1;33m\u001b[0m\u001b[1;33m\u001b[0m\u001b[0m\n\u001b[0m\u001b[0;32m     11\u001b[0m \u001b[1;31m# predict probabilities for test set\u001b[0m\u001b[1;33m\u001b[0m\u001b[1;33m\u001b[0m\u001b[1;33m\u001b[0m\u001b[0m\n\u001b[0;32m     12\u001b[0m \u001b[0myhat_probs\u001b[0m \u001b[1;33m=\u001b[0m \u001b[0mmodel\u001b[0m\u001b[1;33m.\u001b[0m\u001b[0mpredict\u001b[0m\u001b[1;33m(\u001b[0m\u001b[0mx\u001b[0m\u001b[1;33m,\u001b[0m \u001b[0mverbose\u001b[0m\u001b[1;33m=\u001b[0m\u001b[1;36m0\u001b[0m\u001b[1;33m)\u001b[0m\u001b[1;33m\u001b[0m\u001b[1;33m\u001b[0m\u001b[0m\n",
      "\u001b[1;31mNameError\u001b[0m: name 'test_rating_padded' is not defined"
     ]
    }
   ],
   "source": [
    "from sklearn.datasets import make_circles\n",
    "from sklearn.metrics import accuracy_score\n",
    "from sklearn.metrics import precision_score\n",
    "from sklearn.metrics import recall_score\n",
    "from sklearn.metrics import f1_score\n",
    "from sklearn.metrics import cohen_kappa_score\n",
    "from sklearn.metrics import roc_auc_score\n",
    "from sklearn.metrics import confusion_matrix\n",
    "\n",
    "x=[test_awards_padded, test_genre_padded, test_rating_padded]\n",
    "# predict probabilities for test set\n",
    "yhat_probs = model.predict(x, verbose=0)\n",
    "# predict crisp classes for test set\n",
    "# np.argmax(yhat_classes,axis=1)\n",
    "# yhat_classes = model.predict_classes(x, verbose=0)\n",
    "# # reduce to 1d array\n",
    "yhat_classes = np.argmax(yhat_probs,axis=1)\n",
    "\n",
    "# yhat_probs = yhat_probs[:, 0]\n",
    "# yhat_classes = yhat_classes[:, 0]\n",
    "\n",
    "# accuracy: (tp + tn) / (p + n)\n",
    "accuracy = accuracy_score(y_test, yhat_classes)\n",
    "print('Accuracy: %f' % accuracy)\n",
    "# precision tp / (tp + fp)\n",
    "precision = precision_score(y_test, yhat_classes)\n",
    "print('Precision: %f' % precision)\n",
    "# recall: tp / (tp + fn)\n",
    "recall = recall_score(y_test, yhat_classes)\n",
    "print('Recall: %f' % recall)\n",
    "# f1: 2 tp / (2 tp + fp + fn)\n",
    "f1 = f1_score(y_test, yhat_classes)\n",
    "print('F1 score: %f' % f1)"
   ]
  },
  {
   "cell_type": "code",
   "execution_count": null,
   "metadata": {},
   "outputs": [],
   "source": []
  }
 ],
 "metadata": {
  "kernelspec": {
   "display_name": "Python 3",
   "language": "python",
   "name": "python3"
  },
  "language_info": {
   "codemirror_mode": {
    "name": "ipython",
    "version": 3
   },
   "file_extension": ".py",
   "mimetype": "text/x-python",
   "name": "python",
   "nbconvert_exporter": "python",
   "pygments_lexer": "ipython3",
   "version": "3.7.6"
  }
 },
 "nbformat": 4,
 "nbformat_minor": 4
}
