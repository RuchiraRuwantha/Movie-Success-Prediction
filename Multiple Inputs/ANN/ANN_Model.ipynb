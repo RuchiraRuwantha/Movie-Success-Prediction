{
 "cells": [
  {
   "cell_type": "code",
   "execution_count": 2,
   "metadata": {},
   "outputs": [],
   "source": [
    "import numpy as np\n",
    "import tensorflow as tf\n",
    "from tensorflow import keras\n",
    "from tensorflow.keras import layers\n",
    "import pandas as pd\n",
    "from tensorflow.keras.preprocessing.text import Tokenizer\n",
    "from tensorflow.keras.preprocessing.sequence import pad_sequences\n",
    "from tensorflow.keras.layers import Dense, Embedding, LSTM, Dropout, Input, Concatenate, Flatten\n",
    "from tensorflow.keras.models import Model\n",
    "from tensorflow.keras import regularizers\n",
    "from sklearn import model_selection\n",
    "import re"
   ]
  },
  {
   "cell_type": "code",
   "execution_count": 3,
   "metadata": {},
   "outputs": [],
   "source": [
    "train_data = pd.read_json('train_meta_data.json')\n",
    "test_data = pd.read_json('test_meta_data.json')\n",
    "\n",
    "X_train = train_data.drop(columns=['Title', 'Budget', 'Status', 'Released', 'Language', 'Director', 'Actors'])\n",
    "y_train = train_data['Status']\n",
    "X_test = test_data.drop(columns=['Title', 'Budget', 'Status', 'Released', 'Language', 'Director', 'Actors'])\n",
    "y_test = test_data['Status']\n",
    "\n",
    "def preprocess_text(sen):\n",
    "    sentence = re.sub(r'[^\\w]', ' ', sen)\n",
    "    # Removing multiple spaces\n",
    "    sentence = re.sub(r'\\s+', ' ', sentence)\n",
    "    return sentence"
   ]
  },
  {
   "cell_type": "code",
   "execution_count": 4,
   "metadata": {},
   "outputs": [],
   "source": [
    "token = Tokenizer()\n",
    "token.fit_on_texts(X_train['Awards'])\n",
    "max_length_awards = max([len(s) for s in X_train['Awards']])\n",
    "\n",
    "train_awards_sequences = token.texts_to_sequences(X_train['Awards'])\n",
    "train_awards_padded = pad_sequences(train_awards_sequences, maxlen=max_length_awards)\n",
    "awards_vocab_size = len(token.word_index)+1\n",
    "\n",
    "test_awards_sequences = token.texts_to_sequences(X_test['Awards'])\n",
    "test_awards_padded = pad_sequences(test_awards_sequences, maxlen=max_length_awards)\n",
    "\n",
    "input_awards = Input(shape=(max_length_awards,))\n",
    "embedding_layer = Embedding(awards_vocab_size, max_length_awards)(input_awards)\n",
    "# LSTM_Layer_4 =LSTM(64, dropout=0.5)(embedding_layer)\n",
    "flatten = Flatten()(embedding_layer)\n",
    "dence_Layer_3 = Dense(8, activation='relu',kernel_regularizer=regularizers.l2(0.01))(flatten)"
   ]
  },
  {
   "cell_type": "code",
   "execution_count": 5,
   "metadata": {},
   "outputs": [],
   "source": [
    "X_train_genre = []\n",
    "data = list(X_train[\"Genre\"])\n",
    "\n",
    "for sen in data:\n",
    "    X_train_genre.append(preprocess_text(sen))\n",
    "\n",
    "X_test_genre = []\n",
    "data = list(X_test[\"Genre\"])\n",
    "\n",
    "for sen in data:\n",
    "    X_test_genre.append(preprocess_text(sen))\n",
    "\n",
    "token.fit_on_texts(X_train_genre)\n",
    "max_length_genre = max([len(s) for s in X_train_genre])\n",
    "\n",
    "train_genre_sequences = token.texts_to_sequences(X_train_genre)\n",
    "train_genre_padded = pad_sequences(train_genre_sequences, maxlen=max_length_genre)\n",
    "genre_vocab_size = len(token.word_index)+1\n",
    "\n",
    "test_genre_sequences = token.texts_to_sequences(X_test_genre)\n",
    "test_genre_padded = pad_sequences(test_genre_sequences, maxlen=max_length_genre)\n",
    "\n",
    "input_genre = Input(shape=(max_length_genre,))\n",
    "embedding_layer = Embedding(genre_vocab_size, max_length_genre)(input_genre)\n",
    "# LSTM_Layer_5 =LSTM(64, dropout=0.5)(embedding_layer)\n",
    "flatten = Flatten()(embedding_layer)\n",
    "dence_Layer_4 = Dense(8, activation='relu',kernel_regularizer=regularizers.l2(1e-6))(flatten)"
   ]
  },
  {
   "cell_type": "code",
   "execution_count": 6,
   "metadata": {},
   "outputs": [
    {
     "name": "stdout",
     "output_type": "stream",
     "text": [
      "[[ 0 21 13]\n",
      " [ 0  6  6]\n",
      " [ 0  6 21]\n",
      " ...\n",
      " [ 0  7 31]\n",
      " [ 0  2 10]\n",
      " [ 0  2  7]]\n"
     ]
    }
   ],
   "source": [
    "X_train_rating = X_train['imdbRating']\n",
    "X_train_rating=X_train_rating.astype(str)\n",
    "token.fit_on_texts(X_train_rating)\n",
    "max_length_rating = max([len(s) for s in X_train_rating])\n",
    "\n",
    "train_rating_sequences = token.texts_to_sequences(X_train_rating)\n",
    "train_rating_padded = pad_sequences(train_rating_sequences, maxlen=max_length_rating)\n",
    "print(train_rating_padded)\n",
    "rating_vocab_size = len(token.word_index)+1\n",
    "\n",
    "X_test_rating = X_test['imdbRating']\n",
    "X_test_rating=X_test_rating.astype(str)\n",
    "test_rating_sequences = token.texts_to_sequences(X_test_rating)\n",
    "test_rating_padded = pad_sequences(test_rating_sequences, maxlen=max_length_rating)\n",
    "\n",
    "input_rating = Input(shape=(max_length_rating,))\n",
    "dense_layer_5 = Dense(10, activation='relu', kernel_regularizer=regularizers.l2(1e-6))(input_rating)\n",
    "dense_layer_7 = Dense(20, activation='relu', kernel_regularizer=regularizers.l2(1e-6))(dense_layer_5)\n",
    "dense_layer_6 = Dense(10, activation='relu', kernel_regularizer=regularizers.l2(1e-6))(dense_layer_7)"
   ]
  },
  {
   "cell_type": "code",
   "execution_count": 7,
   "metadata": {},
   "outputs": [
    {
     "name": "stdout",
     "output_type": "stream",
     "text": [
      "Model: \"model\"\n",
      "__________________________________________________________________________________________________\n",
      "Layer (type)                    Output Shape         Param #     Connected to                     \n",
      "==================================================================================================\n",
      "input_1 (InputLayer)            [(None, 68)]         0                                            \n",
      "__________________________________________________________________________________________________\n",
      "input_2 (InputLayer)            [(None, 57)]         0                                            \n",
      "__________________________________________________________________________________________________\n",
      "input_3 (InputLayer)            [(None, 3)]          0                                            \n",
      "__________________________________________________________________________________________________\n",
      "embedding (Embedding)           (None, 68, 68)       9520        input_1[0][0]                    \n",
      "__________________________________________________________________________________________________\n",
      "embedding_1 (Embedding)         (None, 57, 57)       9234        input_2[0][0]                    \n",
      "__________________________________________________________________________________________________\n",
      "dense_2 (Dense)                 (None, 10)           40          input_3[0][0]                    \n",
      "__________________________________________________________________________________________________\n",
      "flatten (Flatten)               (None, 4624)         0           embedding[0][0]                  \n",
      "__________________________________________________________________________________________________\n",
      "flatten_1 (Flatten)             (None, 3249)         0           embedding_1[0][0]                \n",
      "__________________________________________________________________________________________________\n",
      "dense_3 (Dense)                 (None, 20)           220         dense_2[0][0]                    \n",
      "__________________________________________________________________________________________________\n",
      "dense (Dense)                   (None, 8)            37000       flatten[0][0]                    \n",
      "__________________________________________________________________________________________________\n",
      "dense_1 (Dense)                 (None, 8)            26000       flatten_1[0][0]                  \n",
      "__________________________________________________________________________________________________\n",
      "dense_4 (Dense)                 (None, 10)           210         dense_3[0][0]                    \n",
      "__________________________________________________________________________________________________\n",
      "concatenate (Concatenate)       (None, 26)           0           dense[0][0]                      \n",
      "                                                                 dense_1[0][0]                    \n",
      "                                                                 dense_4[0][0]                    \n",
      "__________________________________________________________________________________________________\n",
      "dense_5 (Dense)                 (None, 10)           270         concatenate[0][0]                \n",
      "__________________________________________________________________________________________________\n",
      "dense_6 (Dense)                 (None, 1)            11          dense_5[0][0]                    \n",
      "==================================================================================================\n",
      "Total params: 82,505\n",
      "Trainable params: 82,505\n",
      "Non-trainable params: 0\n",
      "__________________________________________________________________________________________________\n"
     ]
    }
   ],
   "source": [
    "from tensorflow.python.keras.callbacks import EarlyStopping\n",
    "\n",
    "# callback = EarlyStopping(monitor='val_loss')\n",
    "concat_layer = Concatenate()([dence_Layer_3, dence_Layer_4, dense_layer_6])\n",
    "dense_layer_3 = Dense(10, activation='relu',kernel_regularizer=regularizers.l2(1e-6))(concat_layer)\n",
    "output = Dense(1, activation='sigmoid')(dense_layer_3)\n",
    "model = Model(inputs=[input_awards, input_genre, input_rating], outputs=output)\n",
    "model.summary()"
   ]
  },
  {
   "cell_type": "code",
   "execution_count": 8,
   "metadata": {},
   "outputs": [],
   "source": [
    "model.compile(optimizer='adam',loss='binary_crossentropy',metrics = ['accuracy'], loss_weights=[1.0, 0.2])"
   ]
  },
  {
   "cell_type": "code",
   "execution_count": 9,
   "metadata": {},
   "outputs": [
    {
     "name": "stdout",
     "output_type": "stream",
     "text": [
      "Epoch 1/60\n",
      "22/22 [==============================] - 0s 18ms/step - loss: 0.6968 - accuracy: 0.7355 - val_loss: 0.7085 - val_accuracy: 0.6667\n",
      "Epoch 2/60\n",
      "22/22 [==============================] - 0s 5ms/step - loss: 0.6014 - accuracy: 0.7355 - val_loss: 0.6726 - val_accuracy: 0.6667\n",
      "Epoch 3/60\n",
      "22/22 [==============================] - 0s 5ms/step - loss: 0.5754 - accuracy: 0.7355 - val_loss: 0.6627 - val_accuracy: 0.6667\n",
      "Epoch 4/60\n",
      "22/22 [==============================] - 0s 5ms/step - loss: 0.5634 - accuracy: 0.7378 - val_loss: 0.6345 - val_accuracy: 0.6667\n",
      "Epoch 5/60\n",
      "22/22 [==============================] - 0s 4ms/step - loss: 0.5465 - accuracy: 0.7425 - val_loss: 0.6362 - val_accuracy: 0.6533\n",
      "Epoch 6/60\n",
      "22/22 [==============================] - 0s 5ms/step - loss: 0.5278 - accuracy: 0.7541 - val_loss: 0.6231 - val_accuracy: 0.6933\n",
      "Epoch 7/60\n",
      "22/22 [==============================] - 0s 5ms/step - loss: 0.5150 - accuracy: 0.7564 - val_loss: 0.6419 - val_accuracy: 0.6933\n",
      "Epoch 8/60\n",
      "22/22 [==============================] - 0s 5ms/step - loss: 0.5014 - accuracy: 0.7564 - val_loss: 0.6095 - val_accuracy: 0.6933\n",
      "Epoch 9/60\n",
      "22/22 [==============================] - 0s 6ms/step - loss: 0.4734 - accuracy: 0.7726 - val_loss: 0.5937 - val_accuracy: 0.6933\n",
      "Epoch 10/60\n",
      "22/22 [==============================] - 0s 5ms/step - loss: 0.4655 - accuracy: 0.7865 - val_loss: 0.6019 - val_accuracy: 0.6933\n",
      "Epoch 11/60\n",
      "22/22 [==============================] - 0s 5ms/step - loss: 0.4466 - accuracy: 0.7981 - val_loss: 0.6254 - val_accuracy: 0.6933\n",
      "Epoch 12/60\n",
      "22/22 [==============================] - 0s 5ms/step - loss: 0.4341 - accuracy: 0.7958 - val_loss: 0.6045 - val_accuracy: 0.7067\n",
      "Epoch 13/60\n",
      "22/22 [==============================] - 0s 5ms/step - loss: 0.4247 - accuracy: 0.8260 - val_loss: 0.6290 - val_accuracy: 0.6800\n",
      "Epoch 14/60\n",
      "22/22 [==============================] - 0s 4ms/step - loss: 0.4172 - accuracy: 0.8329 - val_loss: 0.6356 - val_accuracy: 0.6933\n",
      "Epoch 15/60\n",
      "22/22 [==============================] - 0s 5ms/step - loss: 0.4021 - accuracy: 0.8329 - val_loss: 0.6362 - val_accuracy: 0.7067\n",
      "Epoch 16/60\n",
      "22/22 [==============================] - 0s 4ms/step - loss: 0.3921 - accuracy: 0.8353 - val_loss: 0.6597 - val_accuracy: 0.7067\n",
      "Epoch 17/60\n",
      "22/22 [==============================] - 0s 4ms/step - loss: 0.3789 - accuracy: 0.8654 - val_loss: 0.7163 - val_accuracy: 0.6933\n",
      "Epoch 18/60\n",
      "22/22 [==============================] - 0s 4ms/step - loss: 0.3760 - accuracy: 0.8608 - val_loss: 0.7093 - val_accuracy: 0.6800\n",
      "Epoch 19/60\n",
      "22/22 [==============================] - 0s 5ms/step - loss: 0.3647 - accuracy: 0.8654 - val_loss: 0.7239 - val_accuracy: 0.6800\n",
      "Epoch 20/60\n",
      "22/22 [==============================] - 0s 4ms/step - loss: 0.3559 - accuracy: 0.8654 - val_loss: 0.7147 - val_accuracy: 0.7067\n",
      "Epoch 21/60\n",
      "22/22 [==============================] - 0s 5ms/step - loss: 0.3477 - accuracy: 0.8910 - val_loss: 0.7651 - val_accuracy: 0.6933\n",
      "Epoch 22/60\n",
      "22/22 [==============================] - 0s 5ms/step - loss: 0.3371 - accuracy: 0.8840 - val_loss: 0.7657 - val_accuracy: 0.7067\n",
      "Epoch 23/60\n",
      "22/22 [==============================] - 0s 4ms/step - loss: 0.3345 - accuracy: 0.8979 - val_loss: 0.8229 - val_accuracy: 0.6933\n",
      "Epoch 24/60\n",
      "22/22 [==============================] - 0s 4ms/step - loss: 0.3251 - accuracy: 0.8910 - val_loss: 0.8194 - val_accuracy: 0.6800\n",
      "Epoch 25/60\n",
      "22/22 [==============================] - 0s 5ms/step - loss: 0.3381 - accuracy: 0.8747 - val_loss: 0.8629 - val_accuracy: 0.7067\n",
      "Epoch 26/60\n",
      "22/22 [==============================] - 0s 4ms/step - loss: 0.3406 - accuracy: 0.8863 - val_loss: 0.7851 - val_accuracy: 0.7067\n",
      "Epoch 27/60\n",
      "22/22 [==============================] - 0s 4ms/step - loss: 0.3333 - accuracy: 0.8770 - val_loss: 0.8325 - val_accuracy: 0.6400\n",
      "Epoch 28/60\n",
      "22/22 [==============================] - 0s 4ms/step - loss: 0.3069 - accuracy: 0.9026 - val_loss: 0.8407 - val_accuracy: 0.6800\n",
      "Epoch 29/60\n",
      "22/22 [==============================] - 0s 6ms/step - loss: 0.3072 - accuracy: 0.9002 - val_loss: 0.9341 - val_accuracy: 0.6933\n",
      "Epoch 30/60\n",
      "22/22 [==============================] - 0s 5ms/step - loss: 0.3025 - accuracy: 0.8979 - val_loss: 0.8327 - val_accuracy: 0.6800\n",
      "Epoch 31/60\n",
      "22/22 [==============================] - 0s 5ms/step - loss: 0.2931 - accuracy: 0.9072 - val_loss: 0.8684 - val_accuracy: 0.6533\n",
      "Epoch 32/60\n",
      "22/22 [==============================] - 0s 4ms/step - loss: 0.2846 - accuracy: 0.8956 - val_loss: 0.9324 - val_accuracy: 0.6933\n",
      "Epoch 33/60\n",
      "22/22 [==============================] - 0s 4ms/step - loss: 0.2925 - accuracy: 0.9072 - val_loss: 0.8988 - val_accuracy: 0.6533\n",
      "Epoch 34/60\n",
      "22/22 [==============================] - 0s 5ms/step - loss: 0.2836 - accuracy: 0.9118 - val_loss: 0.8939 - val_accuracy: 0.6667\n",
      "Epoch 35/60\n",
      "22/22 [==============================] - 0s 5ms/step - loss: 0.2837 - accuracy: 0.9072 - val_loss: 0.9099 - val_accuracy: 0.6800\n",
      "Epoch 36/60\n",
      "22/22 [==============================] - 0s 6ms/step - loss: 0.2816 - accuracy: 0.9072 - val_loss: 0.9187 - val_accuracy: 0.6533\n",
      "Epoch 37/60\n",
      "22/22 [==============================] - 0s 5ms/step - loss: 0.2675 - accuracy: 0.9095 - val_loss: 0.9907 - val_accuracy: 0.6933\n",
      "Epoch 38/60\n",
      "22/22 [==============================] - 0s 5ms/step - loss: 0.2795 - accuracy: 0.8979 - val_loss: 1.0095 - val_accuracy: 0.6933\n",
      "Epoch 39/60\n",
      "22/22 [==============================] - 0s 5ms/step - loss: 0.2660 - accuracy: 0.9118 - val_loss: 0.9704 - val_accuracy: 0.6933\n",
      "Epoch 40/60\n",
      "22/22 [==============================] - 0s 5ms/step - loss: 0.2668 - accuracy: 0.9072 - val_loss: 0.9820 - val_accuracy: 0.6800\n",
      "Epoch 41/60\n",
      "22/22 [==============================] - 0s 5ms/step - loss: 0.2854 - accuracy: 0.8979 - val_loss: 0.9480 - val_accuracy: 0.7067\n",
      "Epoch 42/60\n",
      "22/22 [==============================] - 0s 5ms/step - loss: 0.2656 - accuracy: 0.9072 - val_loss: 0.9619 - val_accuracy: 0.6667\n",
      "Epoch 43/60\n",
      "22/22 [==============================] - 0s 5ms/step - loss: 0.2617 - accuracy: 0.9072 - val_loss: 0.9692 - val_accuracy: 0.6667\n",
      "Epoch 44/60\n",
      "22/22 [==============================] - 0s 5ms/step - loss: 0.2565 - accuracy: 0.9072 - val_loss: 0.9913 - val_accuracy: 0.6400\n",
      "Epoch 45/60\n",
      "22/22 [==============================] - 0s 6ms/step - loss: 0.2632 - accuracy: 0.9049 - val_loss: 1.0321 - val_accuracy: 0.6933\n",
      "Epoch 46/60\n",
      "22/22 [==============================] - 0s 5ms/step - loss: 0.2783 - accuracy: 0.8701 - val_loss: 1.0244 - val_accuracy: 0.6667\n",
      "Epoch 47/60\n",
      "22/22 [==============================] - 0s 5ms/step - loss: 0.2543 - accuracy: 0.9142 - val_loss: 1.0299 - val_accuracy: 0.6800\n",
      "Epoch 48/60\n",
      "22/22 [==============================] - 0s 4ms/step - loss: 0.2483 - accuracy: 0.9095 - val_loss: 1.0463 - val_accuracy: 0.6800\n",
      "Epoch 49/60\n",
      "22/22 [==============================] - 0s 4ms/step - loss: 0.2624 - accuracy: 0.9026 - val_loss: 1.0462 - val_accuracy: 0.6800\n",
      "Epoch 50/60\n",
      "22/22 [==============================] - 0s 5ms/step - loss: 0.2474 - accuracy: 0.9049 - val_loss: 1.0415 - val_accuracy: 0.6667\n",
      "Epoch 51/60\n",
      "22/22 [==============================] - 0s 4ms/step - loss: 0.2627 - accuracy: 0.9072 - val_loss: 1.0523 - val_accuracy: 0.6533\n",
      "Epoch 52/60\n",
      "22/22 [==============================] - 0s 4ms/step - loss: 0.2485 - accuracy: 0.9165 - val_loss: 1.1158 - val_accuracy: 0.6933\n",
      "Epoch 53/60\n",
      "22/22 [==============================] - 0s 5ms/step - loss: 0.2455 - accuracy: 0.9165 - val_loss: 1.1009 - val_accuracy: 0.6800\n",
      "Epoch 54/60\n",
      "22/22 [==============================] - 0s 8ms/step - loss: 0.2438 - accuracy: 0.9165 - val_loss: 1.1517 - val_accuracy: 0.6800\n",
      "Epoch 55/60\n",
      "22/22 [==============================] - 0s 5ms/step - loss: 0.2430 - accuracy: 0.9095 - val_loss: 1.1330 - val_accuracy: 0.6667\n",
      "Epoch 56/60\n",
      "22/22 [==============================] - 0s 5ms/step - loss: 0.2506 - accuracy: 0.9002 - val_loss: 1.0841 - val_accuracy: 0.6533\n",
      "Epoch 57/60\n",
      "22/22 [==============================] - 0s 4ms/step - loss: 0.2408 - accuracy: 0.9095 - val_loss: 1.1446 - val_accuracy: 0.6800\n",
      "Epoch 58/60\n",
      "22/22 [==============================] - 0s 4ms/step - loss: 0.2362 - accuracy: 0.9188 - val_loss: 1.1590 - val_accuracy: 0.6800\n",
      "Epoch 59/60\n"
     ]
    },
    {
     "name": "stdout",
     "output_type": "stream",
     "text": [
      "22/22 [==============================] - 0s 5ms/step - loss: 0.2314 - accuracy: 0.9211 - val_loss: 1.0825 - val_accuracy: 0.6533\n",
      "Epoch 60/60\n",
      "22/22 [==============================] - 0s 4ms/step - loss: 0.2368 - accuracy: 0.9211 - val_loss: 1.0892 - val_accuracy: 0.6667\n"
     ]
    }
   ],
   "source": [
    "history = model.fit([train_awards_padded, \n",
    "                     train_genre_padded, train_rating_padded], y_train, epochs=60, batch_size=20,\n",
    "                     validation_data= ([test_awards_padded, \n",
    "                     test_genre_padded, test_rating_padded], y_test))"
   ]
  },
  {
   "cell_type": "code",
   "execution_count": 10,
   "metadata": {},
   "outputs": [
    {
     "name": "stdout",
     "output_type": "stream",
     "text": [
      "3/3 [==============================] - 0s 1ms/step - loss: 1.0892 - accuracy: 0.6667\n",
      "Test Score: 1.0891914367675781\n",
      "Test Accuracy: 0.6666666865348816\n"
     ]
    }
   ],
   "source": [
    "score = model.evaluate(x=[test_awards_padded, \n",
    "                     test_genre_padded, test_rating_padded], y=y_test, verbose=1)\n",
    "print(\"Test Score:\", score[0])\n",
    "print(\"Test Accuracy:\", score[1])"
   ]
  },
  {
   "cell_type": "code",
   "execution_count": 11,
   "metadata": {},
   "outputs": [
    {
     "data": {
      "image/png": "[encoded data removed]",
      "text/plain": [
       "<Figure size 432x288 with 1 Axes>"
      ]
     },
     "metadata": {
      "needs_background": "light"
     },
     "output_type": "display_data"
    },
    {
     "data": {
      "image/png": "[encoded data removed]",
      "text/plain": [
       "<Figure size 432x288 with 1 Axes>"
      ]
     },
     "metadata": {
      "needs_background": "light"
     },
     "output_type": "display_data"
    }
   ],
   "source": [
    "import matplotlib.pyplot as plt\n",
    "\n",
    "plt.plot(history.history['accuracy'])\n",
    "plt.plot(history.history['val_accuracy'])\n",
    "\n",
    "plt.title('model accuracy')\n",
    "plt.ylabel('accuracy')\n",
    "plt.xlabel('epoch')\n",
    "plt.legend(['train','test'], loc='upper left')\n",
    "plt.show()\n",
    "\n",
    "plt.plot(history.history['loss'])\n",
    "plt.plot(history.history['val_loss'])\n",
    "\n",
    "plt.title('model loss')\n",
    "plt.ylabel('loss')\n",
    "plt.xlabel('epoch')\n",
    "plt.legend(['train','test'], loc='upper left')\n",
    "plt.show()"
   ]
  },
  {
   "cell_type": "code",
   "execution_count": 12,
   "metadata": {},
   "outputs": [
    {
     "name": "stdout",
     "output_type": "stream",
     "text": [
      "Accuracy 0.6666667\n",
      "Precission 0.5\n",
      "Recall 0.36\n",
      "F1 score: 0.533333\n"
     ]
    }
   ],
   "source": [
    "from sklearn.metrics import f1_score\n",
    "\n",
    "x=[test_awards_padded, test_genre_padded, test_rating_padded]\n",
    "y_pred = model.predict(x)\n",
    "\n",
    "m = tf.keras.metrics.BinaryAccuracy()\n",
    "m.update_state(y_test, y_pred, sample_weight=None)\n",
    "print('Accuracy %s' % m.result().numpy())\n",
    "\n",
    "m = tf.keras.metrics.Precision()\n",
    "m.update_state(y_test, y_pred, sample_weight=None)\n",
    "print('Precission %s' % m.result().numpy())\n",
    "\n",
    "m = tf.keras.metrics.Recall()\n",
    "m.update_state(y_test, y_pred, sample_weight=None)\n",
    "print('Recall %s' % m.result().numpy())\n",
    "\n",
    "yhat_probs = model.predict(x, verbose=0)\n",
    "# predict crisp classes for test set\n",
    "yhat_classes = np.argmax(yhat_probs,axis=1)\n",
    "\n",
    "f1 = f1_score(y_test, yhat_classes, average = 'weighted')\n",
    "print('F1 score: %f' % f1)"
   ]
  },
  {
   "cell_type": "code",
   "execution_count": null,
   "metadata": {},
   "outputs": [],
   "source": []
  }
 ],
 "metadata": {
  "kernelspec": {
   "display_name": "Python 3",
   "language": "python",
   "name": "python3"
  },
  "language_info": {
   "codemirror_mode": {
    "name": "ipython",
    "version": 3
   },
   "file_extension": ".py",
   "mimetype": "text/x-python",
   "name": "python",
   "nbconvert_exporter": "python",
   "pygments_lexer": "ipython3",
   "version": "3.7.6"
  }
 },
 "nbformat": 4,
 "nbformat_minor": 4
}
