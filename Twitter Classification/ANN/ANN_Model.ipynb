{
 "cells": [
  {
   "cell_type": "code",
   "execution_count": 2,
   "metadata": {},
   "outputs": [
    {
     "name": "stdout",
     "output_type": "stream",
     "text": [
      "2.2.0\n"
     ]
    }
   ],
   "source": [
    "import tensorflow as tf\n",
    "print(tf.__version__)"
   ]
  },
  {
   "cell_type": "code",
   "execution_count": 3,
   "metadata": {},
   "outputs": [
    {
     "name": "stdout",
     "output_type": "stream",
     "text": [
      "0                                 Went see yesterday cool\n",
      "1                                                        \n",
      "2                                        mento movie ever\n",
      "3                      Nick like like suspense whole time\n",
      "4                                  go see girl girls rock\n",
      "                              ...                        \n",
      "4857    lot brand feature see Atari surprise connectio...\n",
      "4858                 IMAX worth scenes shoot IMAX cameras\n",
      "4859    probably READING WAY MUCH might little bite po...\n",
      "4860                                                 mean\n",
      "4861         Solid little Loved fall Oscar statue well do\n",
      "Name: Content, Length: 4862, dtype: object\n"
     ]
    }
   ],
   "source": [
    "import numpy as np\n",
    "from tensorflow.keras.preprocessing.text import Tokenizer\n",
    "from tensorflow.keras.preprocessing.sequence import pad_sequences\n",
    "from nltk.corpus import stopwords\n",
    "import re\n",
    "import pandas as pd\n",
    "from textblob import TextBlob\n",
    "from nltk.stem import WordNetLemmatizer\n",
    "from tensorflow.keras.utils import plot_model\n",
    "\n",
    "tweetsTrain = pd.read_json('trainData.json')\n",
    "tweetsTest = pd.read_json('testData.json')\n",
    "\n",
    "\n",
    "def form_sentence(tweet):\n",
    "    tweet = re.sub(r'@[A-Za-z0-9]+', '', tweet)\n",
    "    tweet = re.sub(r\"(?:\\#+[\\w_]+[\\w\\'_\\-]*[\\w_]+)\", '', tweet)\n",
    "    tweet = re.sub(r'<[^>]+>', '', tweet)\n",
    "    tweet = re.sub(r'http[s]?://(?:[a-z]|[0-9]|[$-_@.&+]|[!*\\(\\),]|(?:%[0-9a-f][0-9a-f]))+', '', tweet)\n",
    "    tweet_blob = TextBlob(tweet)\n",
    "    return ' '.join(tweet_blob.words)\n",
    "\n",
    "def no_user_alpha(tweet):\n",
    "    tweet_list = [ele for ele in tweet.split() if ele != 'user']\n",
    "    clean_tokens = [t for t in tweet_list if re.match(r'[^\\W\\d]*$', t)]\n",
    "    clean_s = ' '.join(clean_tokens)\n",
    "    clean_mess = [word for word in clean_s.split() if word.lower() not in stopwords.words('english')]\n",
    "    return clean_mess\n",
    "\n",
    "\n",
    "def normalization(tweet_list):\n",
    "    lem = WordNetLemmatizer()\n",
    "    normalized_tweet = []\n",
    "    for word in tweet_list:\n",
    "        normalized_text = lem.lemmatize(word, 'v')\n",
    "        normalized_tweet.append(normalized_text)\n",
    "    return normalized_tweet\n",
    "\n",
    "\n",
    "Final_words = []\n",
    "for data in tweetsTrain['Content']:\n",
    "    filtered = normalization(no_user_alpha(form_sentence(data)))\n",
    "    word_Final = ' '.join(filtered)\n",
    "    Final_words.append(word_Final)\n",
    "\n",
    "final_bodyTrain = pd.DataFrame(Final_words, columns=['Content'])\n",
    "print(final_bodyTrain['Content'])\n",
    "\n",
    "Final_wordss = []\n",
    "for data in tweetsTest['Content']:\n",
    "    filtered = normalization(no_user_alpha(form_sentence(data)))\n",
    "    word_Final = ' '.join(filtered)\n",
    "    Final_wordss.append(word_Final)\n",
    "\n",
    "final_bodyTest = pd.DataFrame(Final_wordss, columns=['Content'])"
   ]
  },
  {
   "cell_type": "code",
   "execution_count": 4,
   "metadata": {},
   "outputs": [],
   "source": [
    "vocab_size = 5000\n",
    "embedding_dim = 64\n",
    "# max_length = 10\n",
    "trunc_type = 'post'\n",
    "padding_type = 'post'\n",
    "oov_tok = '<OOV>'"
   ]
  },
  {
   "cell_type": "code",
   "execution_count": 5,
   "metadata": {},
   "outputs": [
    {
     "name": "stdout",
     "output_type": "stream",
     "text": [
      "5553\n",
      "207\n"
     ]
    }
   ],
   "source": [
    "tokenizer = Tokenizer(num_words = vocab_size, oov_token=oov_tok)\n",
    "tokenizer.fit_on_texts(final_bodyTrain['Content'])\n",
    "word_index = tokenizer.word_index\n",
    "vocab_size = len(tokenizer.word_index) + 1\n",
    "print(vocab_size)\n",
    "max_length = max([len(s) for s in final_bodyTrain['Content']])\n",
    "print(max_length)"
   ]
  },
  {
   "cell_type": "code",
   "execution_count": 6,
   "metadata": {},
   "outputs": [
    {
     "data": {
      "text/plain": [
       "{'amp': 11}"
      ]
     },
     "execution_count": 6,
     "metadata": {},
     "output_type": "execute_result"
    }
   ],
   "source": [
    "dict(list(word_index.items())[10:11])"
   ]
  },
  {
   "cell_type": "code",
   "execution_count": 7,
   "metadata": {},
   "outputs": [],
   "source": [
    "train_sequences = tokenizer.texts_to_sequences(final_bodyTrain['Content'])"
   ]
  },
  {
   "cell_type": "code",
   "execution_count": 8,
   "metadata": {},
   "outputs": [],
   "source": [
    "train_padded = pad_sequences(train_sequences, maxlen=max_length, padding=padding_type, truncating=trunc_type)"
   ]
  },
  {
   "cell_type": "code",
   "execution_count": 9,
   "metadata": {},
   "outputs": [
    {
     "name": "stdout",
     "output_type": "stream",
     "text": [
      "4862\n",
      "(4862, 207)\n",
      "[319]\n",
      "[319   0   0   0   0   0   0   0   0   0   0   0   0   0   0   0   0   0\n",
      "   0   0   0   0   0   0   0   0   0   0   0   0   0   0   0   0   0   0\n",
      "   0   0   0   0   0   0   0   0   0   0   0   0   0   0   0   0   0   0\n",
      "   0   0   0   0   0   0   0   0   0   0   0   0   0   0   0   0   0   0\n",
      "   0   0   0   0   0   0   0   0   0   0   0   0   0   0   0   0   0   0\n",
      "   0   0   0   0   0   0   0   0   0   0   0   0   0   0   0   0   0   0\n",
      "   0   0   0   0   0   0   0   0   0   0   0   0   0   0   0   0   0   0\n",
      "   0   0   0   0   0   0   0   0   0   0   0   0   0   0   0   0   0   0\n",
      "   0   0   0   0   0   0   0   0   0   0   0   0   0   0   0   0   0   0\n",
      "   0   0   0   0   0   0   0   0   0   0   0   0   0   0   0   0   0   0\n",
      "   0   0   0   0   0   0   0   0   0   0   0   0   0   0   0   0   0   0\n",
      "   0   0   0   0   0   0   0   0   0]\n"
     ]
    }
   ],
   "source": [
    "print(len(train_sequences))\n",
    "print(train_padded.shape)\n",
    "print(train_sequences[10])\n",
    "print(train_padded[10])"
   ]
  },
  {
   "cell_type": "code",
   "execution_count": 10,
   "metadata": {},
   "outputs": [
    {
     "name": "stdout",
     "output_type": "stream",
     "text": [
      "580\n",
      "(580, 207)\n"
     ]
    }
   ],
   "source": [
    "validation_sequences = tokenizer.texts_to_sequences(final_bodyTest['Content'])\n",
    "validation_padded = pad_sequences(validation_sequences, maxlen=max_length, padding=padding_type, truncating=trunc_type)\n",
    "\n",
    "print(len(validation_sequences))\n",
    "print(validation_padded.shape)"
   ]
  },
  {
   "cell_type": "code",
   "execution_count": 11,
   "metadata": {},
   "outputs": [
    {
     "name": "stdout",
     "output_type": "stream",
     "text": [
      "{'Positive', 'Negative', 'Neutral'}\n"
     ]
    }
   ],
   "source": [
    "print(set(tweetsTrain['Sentiment']))"
   ]
  },
  {
   "cell_type": "code",
   "execution_count": 12,
   "metadata": {},
   "outputs": [],
   "source": [
    "label_tokenizer = Tokenizer()\n",
    "label_tokenizer.fit_on_texts(tweetsTrain['Sentiment'])\n",
    "\n",
    "training_label_seq = np.array(label_tokenizer.texts_to_sequences(tweetsTrain['Sentiment']))\n",
    "\n",
    "# from sklearn import preprocessing\n",
    "# from keras.utils import to_categorical\n",
    "\n",
    "# label_encoder = preprocessing.LabelEncoder()\n",
    "# y_train = label_encoder.fit_transform(tweetsTrain['Sentiment'])\n",
    "\n",
    "# y_test = label_encoder.fit_transform(tweetsTest['Sentiment'])\n",
    "\n",
    "# training_label_seq = to_categorical(y_train)\n",
    "# validation_label_seq = to_categorical(y_test)"
   ]
  },
  {
   "cell_type": "code",
   "execution_count": 45,
   "metadata": {},
   "outputs": [],
   "source": [
    "label_tokenizer = Tokenizer()\n",
    "label_tokenizer.fit_on_texts(tweetsTest['Sentiment'])\n",
    "\n",
    "validation_label_seq = np.array(label_tokenizer.texts_to_sequences(tweetsTest['Sentiment']))"
   ]
  },
  {
   "cell_type": "code",
   "execution_count": 47,
   "metadata": {},
   "outputs": [
    {
     "name": "stdout",
     "output_type": "stream",
     "text": [
      "Model: \"sequential_11\"\n",
      "_________________________________________________________________\n",
      "Layer (type)                 Output Shape              Param #   \n",
      "=================================================================\n",
      "embedding_11 (Embedding)     (None, 207, 64)           355392    \n",
      "_________________________________________________________________\n",
      "flatten_3 (Flatten)          (None, 13248)             0         \n",
      "_________________________________________________________________\n",
      "dense_31 (Dense)             (None, 128)               1695872   \n",
      "_________________________________________________________________\n",
      "dense_32 (Dense)             (None, 6)                 774       \n",
      "=================================================================\n",
      "Total params: 2,052,038\n",
      "Trainable params: 2,052,038\n",
      "Non-trainable params: 0\n",
      "_________________________________________________________________\n"
     ]
    }
   ],
   "source": [
    "from keras.regularizers import l2\n",
    "from tensorflow.python.keras.callbacks import EarlyStopping\n",
    "\n",
    "embedding_dim = 64\n",
    "callback = EarlyStopping(monitor='val_loss')\n",
    "model = tf.keras.Sequential([\n",
    "    tf.keras.layers.Embedding(vocab_size, embedding_dim, input_length = max_length),\n",
    "    tf.keras.layers.Flatten(),\n",
    "    tf.keras.layers.Dense(128, activation='relu', kernel_regularizer=l2(1e-6)),\n",
    "    # When we have multiple outputs, softmax convert outputs layers into a probability distribution.\n",
    "    tf.keras.layers.Dense(6, activation='softmax')\n",
    "])\n",
    "model.summary()"
   ]
  },
  {
   "cell_type": "code",
   "execution_count": 48,
   "metadata": {},
   "outputs": [],
   "source": [
    "model.compile(loss='sparse_categorical_crossentropy', optimizer='adam', metrics=['accuracy'])"
   ]
  },
  {
   "cell_type": "code",
   "execution_count": 49,
   "metadata": {},
   "outputs": [
    {
     "name": "stdout",
     "output_type": "stream",
     "text": [
      "Epoch 1/10\n",
      "152/152 - 4s - loss: 0.8792 - accuracy: 0.5899 - val_loss: 0.5712 - val_accuracy: 0.7914\n",
      "Epoch 2/10\n",
      "152/152 - 4s - loss: 0.3085 - accuracy: 0.8891 - val_loss: 0.6562 - val_accuracy: 0.8052\n"
     ]
    }
   ],
   "source": [
    "num_epochs = 10\n",
    "history = model.fit(train_padded, training_label_seq, epochs=num_epochs, \n",
    "                    validation_data=(validation_padded, validation_label_seq), callbacks=[callback], verbose=2)"
   ]
  },
  {
   "cell_type": "code",
   "execution_count": 50,
   "metadata": {},
   "outputs": [
    {
     "data": {
      "image/png": "[encoded data removed]",
      "text/plain": [
       "<Figure size 432x288 with 1 Axes>"
      ]
     },
     "metadata": {
      "needs_background": "light"
     },
     "output_type": "display_data"
    },
    {
     "data": {
      "image/png": "[encoded data removed]",
      "text/plain": [
       "<Figure size 432x288 with 1 Axes>"
      ]
     },
     "metadata": {
      "needs_background": "light"
     },
     "output_type": "display_data"
    }
   ],
   "source": [
    "import matplotlib.pyplot as plt\n",
    "def plot_graphs(history, string):\n",
    "  plt.plot(history.history[string])\n",
    "  plt.plot(history.history['val_'+string])\n",
    "  plt.xlabel(\"Epochs\")\n",
    "  plt.ylabel(string)\n",
    "  plt.legend([string, 'val_'+string])\n",
    "  plt.show()\n",
    "  \n",
    "plot_graphs(history, \"accuracy\")\n",
    "plot_graphs(history, \"loss\")"
   ]
  },
  {
   "cell_type": "code",
   "execution_count": 51,
   "metadata": {},
   "outputs": [
    {
     "name": "stdout",
     "output_type": "stream",
     "text": [
      "19/19 [==============================] - 0s 7ms/step - loss: 0.6562 - accuracy: 0.8052\n",
      "Accuracy: 80.517244\n"
     ]
    }
   ],
   "source": [
    "loss, accuracy = model.evaluate(validation_padded, validation_label_seq)\n",
    "print('Accuracy: %f' % (accuracy*100))"
   ]
  },
  {
   "cell_type": "code",
   "execution_count": 52,
   "metadata": {},
   "outputs": [
    {
     "name": "stdout",
     "output_type": "stream",
     "text": [
      "Accuracy: 0.805172\n",
      "Precision: 0.814375\n",
      "Recall: 0.805172\n",
      "F1 score: 0.795546\n",
      "[[279  20   1]\n",
      " [ 88 111   1]\n",
      " [  1   2  77]]\n",
      "111\n",
      "77\n"
     ]
    }
   ],
   "source": [
    "from sklearn.datasets import make_circles\n",
    "from sklearn.metrics import accuracy_score\n",
    "from sklearn.metrics import precision_score\n",
    "from sklearn.metrics import recall_score\n",
    "from sklearn.metrics import f1_score\n",
    "from sklearn.metrics import cohen_kappa_score\n",
    "from sklearn.metrics import roc_auc_score\n",
    "from sklearn.metrics import confusion_matrix\n",
    "import keras.backend as K\n",
    "\n",
    "x=[validation_padded]\n",
    "# predict probabilities for test set\n",
    "yhat_probs = model.predict(x, verbose=0)\n",
    "# predict crisp classes for test set\n",
    "yhat_classes = np.argmax(yhat_probs,axis=1)\n",
    "\n",
    "# reduce to 1d array\n",
    "yhat_probs = yhat_probs[:, 0]\n",
    "# yhat_classes = yhat_classes[:, 0]\n",
    "\n",
    "# accuracy: (tp + tn) / (p + n)\n",
    "accuracy = accuracy_score(validation_label_seq, yhat_classes)\n",
    "print('Accuracy: %f' % accuracy)\n",
    "# precision tp / (tp + fp)\n",
    "precision = precision_score(validation_label_seq, yhat_classes, average = 'weighted')\n",
    "print('Precision: %f' % precision)\n",
    "# recall: tp / (tp + fn)\n",
    "recall = recall_score(validation_label_seq, yhat_classes, average = 'weighted')\n",
    "print('Recall: %f' % recall)\n",
    "# f1: 2 tp / (2 tp + fp + fn)\n",
    "f1 = f1_score(validation_label_seq, yhat_classes, average = 'weighted')\n",
    "print('F1 score: %f' % f1)\n",
    "\n",
    "confusion_matrix = confusion_matrix(validation_label_seq, yhat_classes)\n",
    "print(confusion_matrix)\n",
    "negative = confusion_matrix[2][2]\n",
    "print(confusion_matrix[1][1])\n",
    "print(negative)"
   ]
  },
  {
   "cell_type": "code",
   "execution_count": 53,
   "metadata": {},
   "outputs": [],
   "source": [
    "model.save('lstm_model.h5')"
   ]
  },
  {
   "cell_type": "code",
   "execution_count": null,
   "metadata": {},
   "outputs": [],
   "source": [
    "BlackPanther = pd.read_json('BlackPanther.json')\n",
    "\n",
    "Final_words = []\n",
    "for data in BlackPanther['Content']:\n",
    "    filtered = normalization(no_user_alpha(form_sentence(data)))\n",
    "    word_Final = ' '.join(filtered)\n",
    "    Final_words.append(word_Final)\n",
    "\n",
    "final_BlackPanther = pd.DataFrame(Final_words, columns=['Content'])\n",
    "\n",
    "BlackPanther_tokens = tokenizer_obj.texts_to_sequences(final_BlackPanther)\n",
    "BlackPanther_pad = pad_sequences(BlackPanther_tokens, maxlen = max_length, padding = 'post')\n",
    "print(final_BlackPanther)"
   ]
  },
  {
   "cell_type": "code",
   "execution_count": null,
   "metadata": {},
   "outputs": [],
   "source": [
    "from keras.models import load_model\n",
    "# CATEGORIES = ['Neutral', 'Negative', 'Positive']\n",
    "model = load_model('lstm_model.h5')"
   ]
  },
  {
   "cell_type": "code",
   "execution_count": null,
   "metadata": {},
   "outputs": [],
   "source": [
    "predict = model.predict_proba(BlackPanther_pad, verbose=0)\n",
    "# predict crisp classes for test set\n",
    "print(predict)\n",
    "# yhat_classes = np.argmax(yhat_probs,axis=1)\n",
    "\n",
    "# reduce to 1d array\n",
    "# yhat_probs = yhat_probs[:, 0]\n",
    "# confusion_matrix = confusion_matrix(yhat_classes)\n",
    "# print(confusion_matrix)"
   ]
  }
 ],
 "metadata": {
  "kernelspec": {
   "display_name": "Python 3",
   "language": "python",
   "name": "python3"
  },
  "language_info": {
   "codemirror_mode": {
    "name": "ipython",
    "version": 3
   },
   "file_extension": ".py",
   "mimetype": "text/x-python",
   "name": "python",
   "nbconvert_exporter": "python",
   "pygments_lexer": "ipython3",
   "version": "3.7.6"
  }
 },
 "nbformat": 4,
 "nbformat_minor": 4
}
