{
 "cells": [
  {
   "cell_type": "code",
   "execution_count": 32,
   "metadata": {},
   "outputs": [],
   "source": [
    "import numpy as np\n",
    "import tensorflow as tf\n",
    "from tensorflow import keras\n",
    "from tensorflow.keras import layers\n",
    "import pandas as pd\n",
    "from tensorflow.keras.preprocessing.text import Tokenizer\n",
    "from tensorflow.keras.preprocessing.sequence import pad_sequences\n",
    "from tensorflow.keras.layers import Dense, Embedding, LSTM, Dropout, Input, Concatenate, Bidirectional\n",
    "from tensorflow.keras.models import Model\n",
    "from tensorflow.keras import regularizers\n",
    "from sklearn import model_selection\n",
    "import re"
   ]
  },
  {
   "cell_type": "code",
   "execution_count": 33,
   "metadata": {},
   "outputs": [],
   "source": [
    "# train_data = pd.read_json('train_meta_data.json')\n",
    "# test_data = pd.read_json('test_meta_data.json')\n",
    "meta_data = pd.read_json('Movie_Metadata.json')\n",
    "\n",
    "X = meta_data.drop(columns=['Title', 'Budget', 'Status', 'Released', 'Language', 'Director', 'Actors'])\n",
    "y = meta_data['Status']\n",
    "\n",
    "# X_train = train_data.drop(columns=['Title', 'Budget', 'Status', 'Released', 'Language', 'Director', 'Actors'])\n",
    "# y_train = train_data['Status']\n",
    "# X_test = test_data.drop(columns=['Title', 'Budget', 'Status', 'Released', 'Language', 'Director', 'Actors'])\n",
    "# y_test = test_data['Status']\n",
    "X_train, X_test, y_train, y_test = model_selection.train_test_split(X, y, test_size=0.2)\n",
    "\n",
    "\n",
    "def preprocess_text(sen):\n",
    "    sentence = re.sub(r'[^\\w]', ' ', sen)\n",
    "    # Removing multiple spaces\n",
    "    sentence = re.sub(r'\\s+', ' ', sentence)\n",
    "    return sentence"
   ]
  },
  {
   "cell_type": "code",
   "execution_count": 34,
   "metadata": {},
   "outputs": [],
   "source": [
    "token = Tokenizer()\n",
    "token.fit_on_texts(X_train['Awards'])\n",
    "max_length_awards = max([len(s) for s in X_train['Awards']])\n",
    "\n",
    "train_awards_sequences = token.texts_to_sequences(X_train['Awards'])\n",
    "train_awards_padded = pad_sequences(train_awards_sequences, maxlen=max_length_awards)\n",
    "awards_vocab_size = len(token.word_index)+1\n",
    "\n",
    "test_awards_sequences = token.texts_to_sequences(X_test['Awards'])\n",
    "test_awards_padded = pad_sequences(test_awards_sequences, maxlen=max_length_awards)\n",
    "\n",
    "input_awards = Input(shape=(max_length_awards,))\n",
    "embedding_layer = Embedding(awards_vocab_size, max_length_awards)(input_awards)\n",
    "LSTM_Layer_1 = Bidirectional(LSTM(64, dropout=0.2))(embedding_layer)\n",
    "dence_Layer_1 = Dense(128, activation='relu',kernel_regularizer=regularizers.l2(0.01))(LSTM_Layer_1)"
   ]
  },
  {
   "cell_type": "code",
   "execution_count": 35,
   "metadata": {},
   "outputs": [],
   "source": [
    "X_train_genre = []\n",
    "data = list(X_train[\"Genre\"])\n",
    "\n",
    "for sen in data:\n",
    "    X_train_genre.append(preprocess_text(sen))\n",
    "\n",
    "X_test_genre = []\n",
    "data = list(X_test[\"Genre\"])\n",
    "\n",
    "for sen in data:\n",
    "    X_test_genre.append(preprocess_text(sen))\n",
    "\n",
    "token.fit_on_texts(X_train_genre)\n",
    "max_length_genre = max([len(s) for s in X_train_genre])\n",
    "\n",
    "train_genre_sequences = token.texts_to_sequences(X_train_genre)\n",
    "train_genre_padded = pad_sequences(train_genre_sequences, maxlen=max_length_genre)\n",
    "genre_vocab_size = len(token.word_index)+1\n",
    "\n",
    "test_genre_sequences = token.texts_to_sequences(X_test_genre)\n",
    "test_genre_padded = pad_sequences(test_genre_sequences, maxlen=max_length_genre)\n",
    "\n",
    "input_genre = Input(shape=(max_length_genre,))\n",
    "embedding_layer = Embedding(genre_vocab_size, max_length_genre)(input_genre)\n",
    "LSTM_Layer_2 = Bidirectional(LSTM(64, dropout=0.2))(embedding_layer)\n",
    "dence_Layer_2 = Dense(128, activation='relu',kernel_regularizer=regularizers.l2(1e-6))(LSTM_Layer_2)"
   ]
  },
  {
   "cell_type": "code",
   "execution_count": 36,
   "metadata": {},
   "outputs": [],
   "source": [
    "X_train_rating = X_train['imdbRating']\n",
    "# X_train_rating=X_train_rating.astype(str)\n",
    "# token.fit_on_texts(X_train_rating)\n",
    "# max_length_rating = max([len(s) for s in X_train_rating])\n",
    "\n",
    "# train_rating_sequences = token.texts_to_sequences(X_train_rating)\n",
    "# train_rating_padded = pad_sequences(train_rating_sequences, maxlen=max_length_rating)\n",
    "\n",
    "# rating_vocab_size = len(token.word_index)+1\n",
    "\n",
    "X_test_rating = X_test['imdbRating']\n",
    "# X_test_rating=X_test_rating.astype(str)\n",
    "# test_rating_sequences = token.texts_to_sequences(X_test_rating)\n",
    "# test_rating_padded = pad_sequences(test_rating_sequences, maxlen=max_length_rating)\n",
    "\n",
    "input_rating = Input(shape=1)\n",
    "dense_layer_3 = Dense(10, activation='relu', kernel_regularizer=regularizers.l2(1e-6))(input_rating)\n",
    "dense_layer_4 = Dense(200, activation='relu', kernel_regularizer=regularizers.l2(1e-6))(dense_layer_3)\n",
    "dense_layer_5 = Dense(10, activation='relu', kernel_regularizer=regularizers.l2(1e-6))(dense_layer_4)"
   ]
  },
  {
   "cell_type": "code",
   "execution_count": 37,
   "metadata": {},
   "outputs": [],
   "source": [
    "X_train_postive_ratio = X_train['Postive_ratio']\n",
    "# X_train_postive_ratio=X_train_rating.astype(str)\n",
    "# token.fit_on_texts(X_train_postive_ratio)\n",
    "# max_length_postive_ratio = max([len(s) for s in X_train_postive_ratio])\n",
    "\n",
    "# train_postive_ratio_sequences = token.texts_to_sequences(X_train_postive_ratio)\n",
    "# train_postive_ratio_padded = pad_sequences(train_postive_ratio_sequences, maxlen=max_length_postive_ratio)\n",
    "\n",
    "# postive_ratio_vocab_size = len(token.word_index)+1\n",
    "\n",
    "X_test_postive_ratio = X_test['Postive_ratio']\n",
    "# X_test_postive_ratio = X_test_postive_ratio.astype(str)\n",
    "# test_postive_ratio_sequences = token.texts_to_sequences(X_test_postive_ratio)\n",
    "# test_postive_ratio_padded = pad_sequences(test_postive_ratio_sequences, maxlen=max_length_postive_ratio)\n",
    "\n",
    "input_postive_ratio = Input(shape=1)\n",
    "dense_layer_6 = Dense(10, activation='relu', kernel_regularizer=regularizers.l2(1e-6))(input_postive_ratio)\n",
    "dense_layer_7 = Dense(200, activation='relu', kernel_regularizer=regularizers.l2(1e-6))(dense_layer_6)\n",
    "dense_layer_8 = Dense(10, activation='relu', kernel_regularizer=regularizers.l2(1e-6))(dense_layer_7)"
   ]
  },
  {
   "cell_type": "code",
   "execution_count": 38,
   "metadata": {},
   "outputs": [],
   "source": [
    "X_train_negative_ratio = X_train['Negative_ratio']\n",
    "# X_train_negative_ratio=X_train_rating.astype(str)\n",
    "# token.fit_on_texts(X_train_negative_ratio)\n",
    "# max_length_negative_ratio = max([len(s) for s in X_train_negative_ratio])\n",
    "\n",
    "# train_negative_ratio_sequences = token.texts_to_sequences(X_train_negative_ratio)\n",
    "# train_negative_ratio_padded = pad_sequences(train_negative_ratio_sequences, maxlen=max_length_negative_ratio)\n",
    "\n",
    "# negative_ratio_vocab_size = len(token.word_index)+1\n",
    "\n",
    "X_test_negative_ratio = X_test['Negative_ratio']\n",
    "# X_test_negative_ratio = X_test_negative_ratio.astype(str)\n",
    "# test_negative_ratio_sequences = token.texts_to_sequences(X_test_negative_ratio)\n",
    "# test_negative_ratio_padded = pad_sequences(test_negative_ratio_sequences, maxlen=max_length_negative_ratio)\n",
    "\n",
    "input_negative_ratio = Input(shape=1)\n",
    "dense_layer_9 = Dense(10, activation='relu', kernel_regularizer=regularizers.l2(1e-6))(input_negative_ratio)\n",
    "dense_layer_10 = Dense(200, activation='relu', kernel_regularizer=regularizers.l2(1e-6))(dense_layer_9)\n",
    "dense_layer_11 = Dense(10, activation='relu', kernel_regularizer=regularizers.l2(1e-6))(dense_layer_10)"
   ]
  },
  {
   "cell_type": "code",
   "execution_count": 48,
   "metadata": {},
   "outputs": [
    {
     "name": "stdout",
     "output_type": "stream",
     "text": [
      "Model: \"model_3\"\n",
      "__________________________________________________________________________________________________\n",
      "Layer (type)                    Output Shape         Param #     Connected to                     \n",
      "==================================================================================================\n",
      "input_6 (InputLayer)            [(None, 68)]         0                                            \n",
      "__________________________________________________________________________________________________\n",
      "input_7 (InputLayer)            [(None, 57)]         0                                            \n",
      "__________________________________________________________________________________________________\n",
      "input_8 (InputLayer)            [(None, 1)]          0                                            \n",
      "__________________________________________________________________________________________________\n",
      "input_9 (InputLayer)            [(None, 1)]          0                                            \n",
      "__________________________________________________________________________________________________\n",
      "input_10 (InputLayer)           [(None, 1)]          0                                            \n",
      "__________________________________________________________________________________________________\n",
      "embedding_2 (Embedding)         (None, 68, 68)       9316        input_6[0][0]                    \n",
      "__________________________________________________________________________________________________\n",
      "embedding_3 (Embedding)         (None, 57, 57)       9063        input_7[0][0]                    \n",
      "__________________________________________________________________________________________________\n",
      "dense_19 (Dense)                (None, 10)           20          input_8[0][0]                    \n",
      "__________________________________________________________________________________________________\n",
      "dense_22 (Dense)                (None, 10)           20          input_9[0][0]                    \n",
      "__________________________________________________________________________________________________\n",
      "dense_25 (Dense)                (None, 10)           20          input_10[0][0]                   \n",
      "__________________________________________________________________________________________________\n",
      "bidirectional_2 (Bidirectional) (None, 128)          68096       embedding_2[0][0]                \n",
      "__________________________________________________________________________________________________\n",
      "bidirectional_3 (Bidirectional) (None, 128)          62464       embedding_3[0][0]                \n",
      "__________________________________________________________________________________________________\n",
      "dense_20 (Dense)                (None, 200)          2200        dense_19[0][0]                   \n",
      "__________________________________________________________________________________________________\n",
      "dense_23 (Dense)                (None, 200)          2200        dense_22[0][0]                   \n",
      "__________________________________________________________________________________________________\n",
      "dense_26 (Dense)                (None, 200)          2200        dense_25[0][0]                   \n",
      "__________________________________________________________________________________________________\n",
      "dense_17 (Dense)                (None, 128)          16512       bidirectional_2[0][0]            \n",
      "__________________________________________________________________________________________________\n",
      "dense_18 (Dense)                (None, 128)          16512       bidirectional_3[0][0]            \n",
      "__________________________________________________________________________________________________\n",
      "dense_21 (Dense)                (None, 10)           2010        dense_20[0][0]                   \n",
      "__________________________________________________________________________________________________\n",
      "dense_24 (Dense)                (None, 10)           2010        dense_23[0][0]                   \n",
      "__________________________________________________________________________________________________\n",
      "dense_27 (Dense)                (None, 10)           2010        dense_26[0][0]                   \n",
      "__________________________________________________________________________________________________\n",
      "concatenate_4 (Concatenate)     (None, 286)          0           dense_17[0][0]                   \n",
      "                                                                 dense_18[0][0]                   \n",
      "                                                                 dense_21[0][0]                   \n",
      "                                                                 dense_24[0][0]                   \n",
      "                                                                 dense_27[0][0]                   \n",
      "__________________________________________________________________________________________________\n",
      "dense_31 (Dense)                (None, 500)          143500      concatenate_4[0][0]              \n",
      "__________________________________________________________________________________________________\n",
      "dense_32 (Dense)                (None, 10)           5010        dense_31[0][0]                   \n",
      "__________________________________________________________________________________________________\n",
      "dense_33 (Dense)                (None, 1)            11          dense_32[0][0]                   \n",
      "==================================================================================================\n",
      "Total params: 343,174\n",
      "Trainable params: 343,174\n",
      "Non-trainable params: 0\n",
      "__________________________________________________________________________________________________\n"
     ]
    }
   ],
   "source": [
    "from tensorflow.python.keras.callbacks import EarlyStopping\n",
    "\n",
    "callback = EarlyStopping(monitor='val_loss')\n",
    "concat_layer = Concatenate()([dence_Layer_1, dence_Layer_2, dense_layer_5, dense_layer_8, dense_layer_11])\n",
    "dense_layer_6 = Dense(500, activation='relu',kernel_regularizer=regularizers.l2(1e-6))(concat_layer)\n",
    "dense_layer_7 = Dense(10, activation='relu',kernel_regularizer=regularizers.l2(1e-6))(dense_layer_6)\n",
    "output = Dense(1, activation='sigmoid')(dense_layer_7)\n",
    "model = Model(inputs=[input_awards, input_genre, input_rating, input_postive_ratio, input_negative_ratio], outputs=output)\n",
    "model.summary()\n",
    "# dot_img_file = 'model_1.png'\n",
    "# tf.keras.utils.plot_model(model, to_file=dot_img_file, show_shapes=True)"
   ]
  },
  {
   "cell_type": "code",
   "execution_count": 49,
   "metadata": {},
   "outputs": [],
   "source": [
    "model.compile(optimizer='adam',loss='binary_crossentropy',metrics = ['accuracy'])"
   ]
  },
  {
   "cell_type": "code",
   "execution_count": 54,
   "metadata": {},
   "outputs": [
    {
     "name": "stdout",
     "output_type": "stream",
     "text": [
      "Epoch 1/11\n",
      "21/21 [==============================] - 2s 77ms/step - loss: 0.3154 - accuracy: 0.8803 - val_loss: 0.7287 - val_accuracy: 0.7129\n",
      "Epoch 2/11\n",
      "21/21 [==============================] - 2s 77ms/step - loss: 0.3102 - accuracy: 0.8828 - val_loss: 0.6645 - val_accuracy: 0.7228\n",
      "Epoch 3/11\n",
      "21/21 [==============================] - 2s 78ms/step - loss: 0.3030 - accuracy: 0.8728 - val_loss: 0.7384 - val_accuracy: 0.6931\n",
      "Epoch 4/11\n",
      "21/21 [==============================] - 2s 77ms/step - loss: 0.3115 - accuracy: 0.8878 - val_loss: 0.7732 - val_accuracy: 0.7129\n",
      "Epoch 5/11\n",
      "21/21 [==============================] - 2s 89ms/step - loss: 0.2894 - accuracy: 0.8903 - val_loss: 0.7457 - val_accuracy: 0.7327\n",
      "Epoch 6/11\n",
      "21/21 [==============================] - 2s 104ms/step - loss: 0.2964 - accuracy: 0.8753 - val_loss: 0.7554 - val_accuracy: 0.7129\n",
      "Epoch 7/11\n",
      "21/21 [==============================] - 2s 87ms/step - loss: 0.2946 - accuracy: 0.8653 - val_loss: 0.8303 - val_accuracy: 0.6931\n",
      "Epoch 8/11\n",
      "21/21 [==============================] - 2s 103ms/step - loss: 0.2818 - accuracy: 0.8853 - val_loss: 0.8777 - val_accuracy: 0.7129\n",
      "Epoch 9/11\n",
      "21/21 [==============================] - 2s 95ms/step - loss: 0.2705 - accuracy: 0.8853 - val_loss: 0.8310 - val_accuracy: 0.7327\n",
      "Epoch 10/11\n",
      "21/21 [==============================] - 2s 84ms/step - loss: 0.2829 - accuracy: 0.8903 - val_loss: 0.8500 - val_accuracy: 0.7228\n",
      "Epoch 11/11\n",
      "21/21 [==============================] - 2s 77ms/step - loss: 0.2919 - accuracy: 0.8953 - val_loss: 0.8654 - val_accuracy: 0.7030\n"
     ]
    }
   ],
   "source": [
    "history = model.fit([train_awards_padded, train_genre_padded, X_train_rating, X_train_postive_ratio, X_train_negative_ratio],\n",
    "                    y_train, epochs=11, batch_size=20, validation_data= ([test_awards_padded, test_genre_padded, \n",
    "                                                                          X_test_rating, X_test_postive_ratio, \n",
    "                                                                          X_test_negative_ratio], y_test), \n",
    "                    )"
   ]
  },
  {
   "cell_type": "code",
   "execution_count": 51,
   "metadata": {},
   "outputs": [
    {
     "name": "stdout",
     "output_type": "stream",
     "text": [
      "4/4 [==============================] - 0s 17ms/step - loss: 0.7024 - accuracy: 0.7228\n",
      "Test Score: 0.7023651003837585\n",
      "Test Accuracy: 72.27723002433777\n"
     ]
    }
   ],
   "source": [
    "score = model.evaluate(x=[test_awards_padded, test_genre_padded, X_test_rating, X_test_postive_ratio, X_test_negative_ratio],\n",
    "                       y=y_test, verbose=1)\n",
    "print(\"Test Score:\", score[0])\n",
    "print(\"Test Accuracy:\", score[1]*100)"
   ]
  },
  {
   "cell_type": "code",
   "execution_count": 52,
   "metadata": {},
   "outputs": [
    {
     "name": "stdout",
     "output_type": "stream",
     "text": [
      "Accuracy 0.7227723\n",
      "Precission 0.44117647\n",
      "Recall 0.625\n",
      "F1 score: 0.659584\n"
     ]
    }
   ],
   "source": [
    "from sklearn.metrics import f1_score\n",
    "\n",
    "x=[test_awards_padded, test_genre_padded, X_test_rating, X_test_postive_ratio, X_test_negative_ratio]\n",
    "y_pred = model.predict(x)\n",
    "\n",
    "m = tf.keras.metrics.BinaryAccuracy()\n",
    "m.update_state(y_test, y_pred, sample_weight=None)\n",
    "print('Accuracy %s' % m.result().numpy())\n",
    "\n",
    "m = tf.keras.metrics.Precision()\n",
    "m.update_state(y_test, y_pred, sample_weight=None)\n",
    "print('Precission %s' % m.result().numpy())\n",
    "\n",
    "m = tf.keras.metrics.Recall()\n",
    "m.update_state(y_test, y_pred, sample_weight=None)\n",
    "print('Recall %s' % m.result().numpy())\n",
    "\n",
    "yhat_probs = model.predict(x, verbose=0)\n",
    "# predict crisp classes for test set\n",
    "yhat_classes = np.argmax(yhat_probs,axis=1)\n",
    "\n",
    "f1 = f1_score(y_test, yhat_classes, average = 'weighted')\n",
    "print('F1 score: %f' % f1)"
   ]
  },
  {
   "cell_type": "code",
   "execution_count": 53,
   "metadata": {},
   "outputs": [
    {
     "data": {
      "image/png": "[encoded data removed]",
      "text/plain": [
       "<Figure size 432x288 with 1 Axes>"
      ]
     },
     "metadata": {
      "needs_background": "light"
     },
     "output_type": "display_data"
    },
    {
     "data": {
      "image/png": "[encoded data removed]",
      "text/plain": [
       "<Figure size 432x288 with 1 Axes>"
      ]
     },
     "metadata": {
      "needs_background": "light"
     },
     "output_type": "display_data"
    }
   ],
   "source": [
    "import matplotlib.pyplot as plt\n",
    "\n",
    "plt.plot(history.history['accuracy'])\n",
    "plt.plot(history.history['val_accuracy'])\n",
    "\n",
    "plt.title('model accuracy')\n",
    "plt.ylabel('accuracy')\n",
    "plt.xlabel('epoch')\n",
    "plt.legend(['train','test'], loc='upper left')\n",
    "plt.show()\n",
    "\n",
    "plt.plot(history.history['loss'])\n",
    "plt.plot(history.history['val_loss'])\n",
    "\n",
    "plt.title('model loss')\n",
    "plt.ylabel('loss')\n",
    "plt.xlabel('epoch')\n",
    "plt.legend(['train','test'], loc='upper left')\n",
    "plt.show()"
   ]
  },
  {
   "cell_type": "code",
   "execution_count": null,
   "metadata": {},
   "outputs": [],
   "source": []
  }
 ],
 "metadata": {
  "kernelspec": {
   "display_name": "Python 3",
   "language": "python",
   "name": "python3"
  },
  "language_info": {
   "codemirror_mode": {
    "name": "ipython",
    "version": 3
   },
   "file_extension": ".py",
   "mimetype": "text/x-python",
   "name": "python",
   "nbconvert_exporter": "python",
   "pygments_lexer": "ipython3",
   "version": "3.7.6"
  }
 },
 "nbformat": 4,
 "nbformat_minor": 4
}
